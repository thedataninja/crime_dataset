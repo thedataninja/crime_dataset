{
  "cells": [
    {
      "cell_type": "markdown",
      "source": [
        "# Get all the Data from URL"
      ],
      "metadata": {
        "id": "l2Vjm-bcLokl"
      }
    },
    {
      "cell_type": "code",
      "execution_count": 1,
      "metadata": {
        "id": "Enty0TioHPM3"
      },
      "outputs": [],
      "source": [
        "import pandas as pd\n",
        "import numpy as np\n",
        "import warnings\n",
        "from sklearn.utils import resample\n",
        "warnings.filterwarnings('ignore')\n",
        "\n",
        "url = \"https://raw.githubusercontent.com/anyweez/getsubsalt.com/main/jobs/data-science/challenge/crime.csv\"\n",
        "data = pd.read_csv(url)"
      ]
    },
    {
      "cell_type": "code",
      "execution_count": 2,
      "metadata": {
        "id": "jTaSo4vtIckb"
      },
      "outputs": [],
      "source": [
        "data.drop(['Unnamed: 0'],axis=1,inplace=True)"
      ]
    },
    {
      "cell_type": "code",
      "source": [
        "data.isna().sum()"
      ],
      "metadata": {
        "colab": {
          "base_uri": "https://localhost:8080/"
        },
        "id": "b0u2PInuBs-U",
        "outputId": "d7d6db93-f3a5-4734-b793-b20b0c26e436"
      },
      "execution_count": 3,
      "outputs": [
        {
          "output_type": "execute_result",
          "data": {
            "text/plain": [
              "date                     0\n",
              "primary_type             0\n",
              "location_description    49\n",
              "district                28\n",
              "ward                     8\n",
              "domestic                 0\n",
              "arrest                   0\n",
              "dtype: int64"
            ]
          },
          "metadata": {},
          "execution_count": 3
        }
      ]
    },
    {
      "cell_type": "markdown",
      "source": [
        "# Dropping all the NA values since they are very few of them"
      ],
      "metadata": {
        "id": "uPZ2YPbiL_Li"
      }
    },
    {
      "cell_type": "code",
      "source": [
        "data.dropna(inplace=True)"
      ],
      "metadata": {
        "id": "msruxiTbCELy"
      },
      "execution_count": 4,
      "outputs": []
    },
    {
      "cell_type": "code",
      "execution_count": 5,
      "metadata": {
        "id": "oCmcaT47U7Fq"
      },
      "outputs": [],
      "source": [
        "#filter out columns where target variables is \"?\"\n",
        "\n",
        "data = data[data['arrest'] != '?']"
      ]
    },
    {
      "cell_type": "code",
      "source": [
        "data.shape"
      ],
      "metadata": {
        "colab": {
          "base_uri": "https://localhost:8080/"
        },
        "id": "AgOpKdM9XChA",
        "outputId": "6ab61640-fc91-4b14-f91e-39b75fd36926"
      },
      "execution_count": 6,
      "outputs": [
        {
          "output_type": "execute_result",
          "data": {
            "text/plain": [
              "(899961, 7)"
            ]
          },
          "metadata": {},
          "execution_count": 6
        }
      ]
    },
    {
      "cell_type": "code",
      "source": [
        "data.nunique()"
      ],
      "metadata": {
        "colab": {
          "base_uri": "https://localhost:8080/"
        },
        "id": "xOvdX2WYhF02",
        "outputId": "0aee1c51-db41-41ea-efc7-6081666f448e"
      },
      "execution_count": 7,
      "outputs": [
        {
          "output_type": "execute_result",
          "data": {
            "text/plain": [
              "date                    352917\n",
              "primary_type                31\n",
              "location_description       124\n",
              "district                    24\n",
              "ward                        51\n",
              "domestic                     3\n",
              "arrest                       2\n",
              "dtype: int64"
            ]
          },
          "metadata": {},
          "execution_count": 7
        }
      ]
    },
    {
      "cell_type": "markdown",
      "source": [
        "# Unique count of all columns. Show high cardinality for location_description and ward"
      ],
      "metadata": {
        "id": "X5WFSwRghPGN"
      }
    },
    {
      "cell_type": "code",
      "source": [
        "data['arrest']  = data['arrest'].map(lambda x: 1 if x == 'True' else 0)\n"
      ],
      "metadata": {
        "id": "-YV11Y0yUM_C"
      },
      "execution_count": 8,
      "outputs": []
    },
    {
      "cell_type": "code",
      "source": [
        "data.columns"
      ],
      "metadata": {
        "colab": {
          "base_uri": "https://localhost:8080/"
        },
        "id": "teBl0IzV_vaT",
        "outputId": "a2b5129d-1cbc-4e1e-ebee-b31922ec3149"
      },
      "execution_count": 9,
      "outputs": [
        {
          "output_type": "execute_result",
          "data": {
            "text/plain": [
              "Index(['date', 'primary_type', 'location_description', 'district', 'ward',\n",
              "       'domestic', 'arrest'],\n",
              "      dtype='object')"
            ]
          },
          "metadata": {},
          "execution_count": 9
        }
      ]
    },
    {
      "cell_type": "markdown",
      "source": [
        "# Create new features out fo date --> Month, Day , Weekend , hour"
      ],
      "metadata": {
        "id": "IGNf-eq7MOky"
      }
    },
    {
      "cell_type": "code",
      "execution_count": 10,
      "metadata": {
        "id": "pHwLVQDwzCdZ"
      },
      "outputs": [],
      "source": [
        "import datetime\n",
        "\n",
        "def get_month(row):\n",
        "\n",
        "  #print(\"here\")\n",
        "  #print(row)\n",
        "  date = row['date']\n",
        "  date = date.replace(\"UTC\",\"\")\n",
        "  date=date.strip()\n",
        "  try:\n",
        "      datetime_obj = datetime.datetime.strptime(date, '%Y-%m-%d %H:%M:%S')\n",
        "      return datetime_obj.month\n",
        "  except:\n",
        "      return \"?\"\n",
        "\n",
        "\n",
        "\n",
        "def get_hour(row):\n",
        "\n",
        "  #print(\"here\")\n",
        "  #print(row)\n",
        "  date = row['date']\n",
        "  date = date.replace(\"UTC\",\"\")\n",
        "  date=date.strip()\n",
        "  try:\n",
        "      datetime_obj = datetime.datetime.strptime(date, '%Y-%m-%d %H:%M:%S')\n",
        "      return datetime_obj.hour\n",
        "  except:\n",
        "      return \"?\"\n",
        "\n",
        "def is_weekend(row):\n",
        "\n",
        "  date = row['date']\n",
        "  date = date.replace(\"UTC\",\"\")\n",
        "  date=date.strip()\n",
        "\n",
        "  try:\n",
        "        datetime_obj = datetime.datetime.strptime(date, '%Y-%m-%d %H:%M:%S')\n",
        "\n",
        "        day_of_week = datetime_obj.weekday()\n",
        "        # Determine if it's a weekday or a weekend\n",
        "        if day_of_week < 5:\n",
        "                  day_type = 0\n",
        "        else:\n",
        "                  day_type = 1\n",
        "\n",
        "        return day_type\n",
        "  except:\n",
        "        return \"?\"\n",
        "\n",
        "def day_of_week(row):\n",
        "\n",
        "  date = row['date']\n",
        "  date = date.replace(\"UTC\",\"\")\n",
        "  date=date.strip()\n",
        "\n",
        "  try:\n",
        "        datetime_obj = datetime.datetime.strptime(date, '%Y-%m-%d %H:%M:%S')\n",
        "        day_of_week = datetime_obj.weekday()\n",
        "        return day_of_week\n",
        "  except:\n",
        "        return \"?\"\n",
        "\n",
        "\n",
        "\n",
        "data['month'] = data.apply(get_month,axis=1)\n",
        "data['hour'] = data.apply(get_hour,axis=1)\n",
        "data['is_weekend'] = data.apply(is_weekend,axis=1)\n",
        "data['day'] = data.apply(day_of_week,axis=1)"
      ]
    },
    {
      "cell_type": "markdown",
      "source": [
        "# Part 1 Data imputation strategy for categorical variables is as follows.\n",
        "\n",
        "1. Replace \"?\" with \"Missing\" so adding a new category for Missing Values\n",
        "2. We do frequency encoding for month, hour, location, district and ward\n",
        "3. Those variables have high cardinality so if we do one hot encoding that will make our dataset very sparse.\n",
        "4.  We use one hot encoding for \"domestic\" and \"primary_type\", They dont have high cardinality. Also below charts indicate that they are very important features.\n",
        "5. If had more time i would use more sophisticated encoding methods like KNN to impute the missing values\n",
        "6. If I had more time i would use Ray for feature Engineering as well"
      ],
      "metadata": {
        "id": "0KmqriYfMecv"
      }
    },
    {
      "cell_type": "code",
      "source": [
        "#data_cat = data[['month','location_description','district','ward','hour']]\n",
        "data = data.replace(\"?\",\"Missing\")\n"
      ],
      "metadata": {
        "id": "fM5OoQGh_sVN"
      },
      "execution_count": 11,
      "outputs": []
    },
    {
      "cell_type": "code",
      "source": [
        "for cols in ['primary_type','domestic']:\n",
        " (data.groupby(cols).arrest.value_counts()\n",
        "   .unstack().plot.bar(width=1,stacked=True))"
      ],
      "metadata": {
        "colab": {
          "base_uri": "https://localhost:8080/",
          "height": 1000
        },
        "id": "Dtt1Bin_M5j8",
        "outputId": "bcd2c6ab-acfd-4ddb-e356-da2dab492a3f"
      },
      "execution_count": 12,
      "outputs": [
        {
          "output_type": "display_data",
          "data": {
            "text/plain": [
              "<Figure size 640x480 with 1 Axes>"
            ],
            "image/png": "[encoded data removed]"
          },
          "metadata": {}
        },
        {
          "output_type": "display_data",
          "data": {
            "text/plain": [
              "<Figure size 640x480 with 1 Axes>"
            ],
            "image/png": "[encoded data removed]"
          },
          "metadata": {}
        }
      ]
    },
    {
      "cell_type": "code",
      "source": [
        "enc_month = (data.groupby('month').size()) / len(data)\n",
        "enc_hour = (data.groupby('hour').size()) / len(data)\n",
        "enc_location_description = (data.groupby('location_description').size()) / len(data)\n",
        "enc_district = (data.groupby('district').size()) / len(data)\n",
        "enc_ward = (data.groupby('ward').size()) / len(data)\n",
        "\n",
        "data['month_encode'] = data['month'].apply(lambda x : enc_month[x])\n",
        "data['hour_encode'] = data['hour'].apply(lambda x : enc_hour[x])\n",
        "data['location_description_encode'] = data['location_description'].apply(lambda x : enc_location_description[x])\n",
        "data['district_encode'] = data['district'].apply(lambda x : enc_district[x])\n",
        "data['ward_encode'] = data['ward'].apply(lambda x : enc_ward[x])"
      ],
      "metadata": {
        "id": "5L_Wuzud_9Uh"
      },
      "execution_count": 13,
      "outputs": []
    },
    {
      "cell_type": "code",
      "source": [
        "data.drop(['date','location_description','district','ward','month','is_weekend','day','hour'],axis=1,inplace=True)"
      ],
      "metadata": {
        "id": "5QikpiPSCdQC"
      },
      "execution_count": 14,
      "outputs": []
    },
    {
      "cell_type": "code",
      "source": [
        "def map_domestic(x):\n",
        "\n",
        "  if x == 'True':\n",
        "    return \"yes\"\n",
        "  elif x == 'False':\n",
        "    return \"no\"\n",
        "  else:\n",
        "    return \"missing\"\n"
      ],
      "metadata": {
        "id": "B8cJOYiaHeuU"
      },
      "execution_count": 15,
      "outputs": []
    },
    {
      "cell_type": "code",
      "source": [
        "data['domestic_map'] = data['domestic'].map(lambda x: map_domestic(x))"
      ],
      "metadata": {
        "id": "9hCq5zovHPVn"
      },
      "execution_count": 16,
      "outputs": []
    },
    {
      "cell_type": "markdown",
      "source": [
        "#no of positive classes #264041"
      ],
      "metadata": {
        "id": "OvD8ZCCUl9a6"
      }
    },
    {
      "cell_type": "code",
      "source": [
        "data['arrest'].sum()"
      ],
      "metadata": {
        "colab": {
          "base_uri": "https://localhost:8080/"
        },
        "id": "MPpIl4U_Ja-G",
        "outputId": "20b81085-629a-48e1-c200-f02bf2774b30"
      },
      "execution_count": 17,
      "outputs": [
        {
          "output_type": "execute_result",
          "data": {
            "text/plain": [
              "264041"
            ]
          },
          "metadata": {},
          "execution_count": 17
        }
      ]
    },
    {
      "cell_type": "code",
      "source": [
        "data[data['arrest'] == 0].count()"
      ],
      "metadata": {
        "colab": {
          "base_uri": "https://localhost:8080/"
        },
        "id": "ZuFCWcEEm-zo",
        "outputId": "0fdbe1ce-3ccc-448b-8e35-c88315807be1"
      },
      "execution_count": 18,
      "outputs": [
        {
          "output_type": "execute_result",
          "data": {
            "text/plain": [
              "primary_type                   635920\n",
              "domestic                       635920\n",
              "arrest                         635920\n",
              "month_encode                   635920\n",
              "hour_encode                    635920\n",
              "location_description_encode    635920\n",
              "district_encode                635920\n",
              "ward_encode                    635920\n",
              "domestic_map                   635920\n",
              "dtype: int64"
            ]
          },
          "metadata": {},
          "execution_count": 18
        }
      ]
    },
    {
      "cell_type": "code",
      "source": [
        "#Trying to upsample the data due imbalance nature\n",
        "data_pos = data[data['arrest'] == 1]\n",
        "data_neg = data[data['arrest'] == 0]\n",
        "data_pos_upsampled = resample(data_pos,\n",
        "                                 replace=True,\n",
        "                                 n_samples=635920)\n",
        "\n",
        "data=pd.concat([data_neg,data_pos_upsampled])"
      ],
      "metadata": {
        "id": "oAlDmznSkmH_"
      },
      "execution_count": 19,
      "outputs": []
    },
    {
      "cell_type": "code",
      "source": [
        "data.shape"
      ],
      "metadata": {
        "colab": {
          "base_uri": "https://localhost:8080/"
        },
        "id": "t6jsWYbyoMnJ",
        "outputId": "7172aa49-1daf-4e85-bb77-88d309b657c6"
      },
      "execution_count": 20,
      "outputs": [
        {
          "output_type": "execute_result",
          "data": {
            "text/plain": [
              "(1271840, 9)"
            ]
          },
          "metadata": {},
          "execution_count": 20
        }
      ]
    },
    {
      "cell_type": "code",
      "source": [
        "y = data['arrest']\n",
        "data.drop(['domestic','arrest'],axis=1,inplace=True)\n"
      ],
      "metadata": {
        "id": "TLFAxfVgH-JZ"
      },
      "execution_count": 21,
      "outputs": []
    },
    {
      "cell_type": "markdown",
      "source": [
        "# Creating dummy variables for features domestic and arrest"
      ],
      "metadata": {
        "id": "gp7SrnH3ctKd"
      }
    },
    {
      "cell_type": "code",
      "source": [
        "one_hot_encoded_data = pd.get_dummies(data, columns = ['primary_type','domestic_map'])"
      ],
      "metadata": {
        "id": "Horn-xI0INbC"
      },
      "execution_count": 22,
      "outputs": []
    },
    {
      "cell_type": "code",
      "source": [
        "X  = one_hot_encoded_data*1"
      ],
      "metadata": {
        "id": "LUGq0FC5Ij6a"
      },
      "execution_count": 23,
      "outputs": []
    },
    {
      "cell_type": "code",
      "source": [
        "len(X.columns)"
      ],
      "metadata": {
        "colab": {
          "base_uri": "https://localhost:8080/"
        },
        "id": "xKRLb6nvIrwS",
        "outputId": "31edff9d-a8aa-45fc-da80-a34b05570df6"
      },
      "execution_count": 24,
      "outputs": [
        {
          "output_type": "execute_result",
          "data": {
            "text/plain": [
              "39"
            ]
          },
          "metadata": {},
          "execution_count": 24
        }
      ]
    },
    {
      "cell_type": "code",
      "source": [
        "# for data imputation we call it missing data"
      ],
      "metadata": {
        "id": "XNpVieQxqI0Y"
      },
      "execution_count": 25,
      "outputs": []
    },
    {
      "cell_type": "code",
      "execution_count": 26,
      "metadata": {
        "id": "4Ru2LmWIZ1Le"
      },
      "outputs": [],
      "source": [
        "import pandas as pd\n",
        "from sklearn.model_selection import train_test_split\n",
        "from sklearn.ensemble import RandomForestClassifier\n",
        "from sklearn.metrics import accuracy_score, classification_report\n",
        "import warnings"
      ]
    },
    {
      "cell_type": "code",
      "source": [
        "X.shape"
      ],
      "metadata": {
        "colab": {
          "base_uri": "https://localhost:8080/"
        },
        "id": "T8aXa_hk2mAT",
        "outputId": "8e470d12-4e10-4d35-c682-83837ed90041"
      },
      "execution_count": 27,
      "outputs": [
        {
          "output_type": "execute_result",
          "data": {
            "text/plain": [
              "(1271840, 39)"
            ]
          },
          "metadata": {},
          "execution_count": 27
        }
      ]
    },
    {
      "cell_type": "code",
      "source": [],
      "metadata": {
        "id": "8na1ZU2TkfZ5"
      },
      "execution_count": 27,
      "outputs": []
    },
    {
      "cell_type": "code",
      "source": [
        "y.shape"
      ],
      "metadata": {
        "colab": {
          "base_uri": "https://localhost:8080/"
        },
        "id": "376lkC-13lgn",
        "outputId": "ce6c97b1-ebda-45be-ed6d-d5408a7434e8"
      },
      "execution_count": 28,
      "outputs": [
        {
          "output_type": "execute_result",
          "data": {
            "text/plain": [
              "(1271840,)"
            ]
          },
          "metadata": {},
          "execution_count": 28
        }
      ]
    },
    {
      "cell_type": "code",
      "source": [
        "y.sum()"
      ],
      "metadata": {
        "colab": {
          "base_uri": "https://localhost:8080/"
        },
        "id": "Zvrsn5wtJPEV",
        "outputId": "fa260207-3dcc-4fb9-daed-209f19441959"
      },
      "execution_count": 29,
      "outputs": [
        {
          "output_type": "execute_result",
          "data": {
            "text/plain": [
              "635920"
            ]
          },
          "metadata": {},
          "execution_count": 29
        }
      ]
    },
    {
      "cell_type": "code",
      "execution_count": 30,
      "metadata": {
        "id": "u1o4SnqUZvBL"
      },
      "outputs": [],
      "source": [
        "X_train, X_test, y_train, y_test = train_test_split(X, y, test_size=0.2, random_state=42)\n",
        "\n"
      ]
    },
    {
      "cell_type": "markdown",
      "source": [
        "# Part 2 Training Supervised Learning\n",
        "\n",
        "\n",
        "1.   I tried 3 models Logistic Regression, Random Forest, Xgboost\n",
        "2.   I choose Precision, Recall , F1 score, Accuracy as measure and used cross validation\n",
        "3.   I have tried upsampling to balance the data. If i had more time i would try other techniques like downsampling and smote as well.\n",
        "4.  I would have tried RAY of Ditributed Training as well if i had more time"
      ],
      "metadata": {
        "id": "4NZdQFC2Oh0i"
      }
    },
    {
      "cell_type": "markdown",
      "source": [
        "# Logistic Regression"
      ],
      "metadata": {
        "id": "_RWJeMhtaVHM"
      }
    },
    {
      "cell_type": "code",
      "source": [
        "from sklearn.linear_model import LogisticRegression\n",
        "from sklearn.model_selection import cross_val_score\n",
        "\n",
        "logisticRegr = LogisticRegression()\n",
        "\n",
        "recall = cross_val_score(logisticRegr, X_train, y_train, cv=5, scoring='recall')\n",
        "print('Recall', np.mean(recall), recall)\n",
        "precision = cross_val_score(logisticRegr, X_train, y_train, cv=5, scoring='precision')\n",
        "print('Precision', np.mean(precision), precision)\n",
        "f1 = cross_val_score(logisticRegr, X_train, y_train, cv=5, scoring='f1')\n",
        "print('F1', np.mean(f1), f1)"
      ],
      "metadata": {
        "colab": {
          "base_uri": "https://localhost:8080/"
        },
        "id": "Gs-BWwntC7G7",
        "outputId": "9a2daabb-dc66-45ae-b976-726938fe326b"
      },
      "execution_count": 31,
      "outputs": [
        {
          "output_type": "stream",
          "name": "stdout",
          "text": [
            "Recall 0.618484073928431 [0.61742037 0.61859025 0.61641762 0.62368266 0.61630948]\n",
            "Precision 0.8641937942547401 [0.86349887 0.86482586 0.86267766 0.86424815 0.86571843]\n",
            "F1 0.7209758599850503 [0.72001467 0.72127145 0.71904726 0.72451835 0.72002756]\n"
          ]
        }
      ]
    },
    {
      "cell_type": "markdown",
      "source": [
        "# Random Forest Classifier"
      ],
      "metadata": {
        "id": "1EGGq0-naaWx"
      }
    },
    {
      "cell_type": "code",
      "execution_count": 32,
      "metadata": {
        "id": "CYHhLMFNl6WJ",
        "colab": {
          "base_uri": "https://localhost:8080/"
        },
        "outputId": "de0ddc86-ab96-4d73-97ea-20f287a6e8a7"
      },
      "outputs": [
        {
          "output_type": "stream",
          "name": "stdout",
          "text": [
            "Recall 0.8872335823830122 [0.88758356 0.8861974  0.88628588 0.8895989  0.88650216]\n",
            "Precision 0.8744587276283369 [0.87633219 0.87502305 0.87412615 0.87363269 0.87317956]\n",
            "F1 0.8807989451723486 [0.88192199 0.88057478 0.88016402 0.8815435  0.87979043]\n"
          ]
        }
      ],
      "source": [
        "rf_classifier = RandomForestClassifier(n_estimators=10, random_state=42)\n",
        "\n",
        "# Train the classifier\n",
        "recall = cross_val_score(rf_classifier , X_train, y_train, cv=5, scoring='recall')\n",
        "print('Recall', np.mean(recall), recall)\n",
        "precision = cross_val_score(rf_classifier , X_train, y_train, cv=5, scoring='precision')\n",
        "print('Precision', np.mean(precision), precision)\n",
        "f1 = cross_val_score(rf_classifier , X_train, y_train, cv=5, scoring='f1')\n",
        "print('F1', np.mean(f1), f1)"
      ]
    },
    {
      "cell_type": "code",
      "execution_count": 33,
      "metadata": {
        "id": "yujQFVnIlGdH",
        "colab": {
          "base_uri": "https://localhost:8080/"
        },
        "outputId": "b5742f5d-0d07-4844-c695-a6e0209db266"
      },
      "outputs": [
        {
          "output_type": "stream",
          "name": "stdout",
          "text": [
            "Requirement already satisfied: xgboost in /usr/local/lib/python3.10/dist-packages (2.0.3)\n",
            "Requirement already satisfied: numpy in /usr/local/lib/python3.10/dist-packages (from xgboost) (1.25.2)\n",
            "Requirement already satisfied: scipy in /usr/local/lib/python3.10/dist-packages (from xgboost) (1.11.4)\n"
          ]
        }
      ],
      "source": [
        "!pip install xgboost"
      ]
    },
    {
      "cell_type": "code",
      "execution_count": 34,
      "metadata": {
        "id": "edqtn7KtjgrP"
      },
      "outputs": [],
      "source": [
        "import xgboost as xgb"
      ]
    },
    {
      "cell_type": "markdown",
      "source": [
        "# Xgboost classifier"
      ],
      "metadata": {
        "id": "CYotLulsOq6D"
      }
    },
    {
      "cell_type": "code",
      "execution_count": 35,
      "metadata": {
        "id": "WvjxwaallPnx",
        "colab": {
          "base_uri": "https://localhost:8080/"
        },
        "outputId": "84725798-88d6-46af-92b6-116d4ca77008"
      },
      "outputs": [
        {
          "output_type": "stream",
          "name": "stdout",
          "text": [
            "Recall 0.6975462052693668 [0.69397365 0.6983779  0.69589068 0.7021628  0.69732599]\n",
            "Precision 0.8764615825639724 [0.87775733 0.87513397 0.87569587 0.87773586 0.87598488]\n",
            "F1 0.7768322964348338 [0.77512051 0.77682823 0.77550752 0.78019367 0.77651154]\n"
          ]
        }
      ],
      "source": [
        "clf = xgb.XGBClassifier()\n",
        "# X is the dataframe we created in previous snippet\n",
        "\n",
        "recall = cross_val_score(clf , X_train, y_train, cv=5, scoring='recall')\n",
        "print('Recall', np.mean(recall), recall)\n",
        "precision = cross_val_score(clf , X_train, y_train, cv=5, scoring='precision')\n",
        "print('Precision', np.mean(precision), precision)\n",
        "f1 = cross_val_score(clf , X_train, y_train, cv=5, scoring='f1')\n",
        "print('F1', np.mean(f1), f1)"
      ]
    },
    {
      "cell_type": "code",
      "source": [
        "acc = cross_val_score(clf , X_train, y_train, cv=5, scoring='accuracy')\n",
        "print('Accuracy Xgboost', np.mean(acc), acc)\n",
        "acc = cross_val_score(rf_classifier , X_train, y_train, cv=5, scoring='accuracy')\n",
        "print('Accuracy Random Forest', np.mean(acc), acc)\n",
        "acc = cross_val_score(logisticRegr, X_train, y_train, cv=5, scoring='accuracy')\n",
        "print('Accuracy. Logistic Regression', np.mean(acc), acc)\n"
      ],
      "metadata": {
        "colab": {
          "base_uri": "https://localhost:8080/"
        },
        "id": "jaKzyN-FBzkg",
        "outputId": "e490f9b8-141d-4ddc-cb48-a4ab8ee1b924"
      },
      "execution_count": 36,
      "outputs": [
        {
          "output_type": "stream",
          "name": "stdout",
          "text": [
            "Accuracy Xgboost 0.7996662327758595 [0.79871741 0.79942013 0.79860831 0.80223004 0.79935526]\n",
            "Accuracy Random Forest 0.8799603319598497 [0.8811961  0.87984471 0.87936254 0.88049279 0.87890552]\n",
            "Accuracy. Logistic Regression 0.7607088946202957 [0.75997445 0.76101624 0.75921157 0.76292176 0.76042045]\n"
          ]
        }
      ]
    },
    {
      "cell_type": "markdown",
      "source": [
        "# PART 3 Scaling Scoring using RAY on large dataset\n",
        "\n",
        "\n",
        "1.   I used upsampling to increase size of test data\n",
        "2.   Increased the size to 10 Million rows. Ray was able to do that very fast using parallel processing\n",
        "\n"
      ],
      "metadata": {
        "id": "vHRBxIncLm03"
      }
    },
    {
      "cell_type": "code",
      "execution_count": 37,
      "metadata": {
        "id": "qUmdLck6-WwU",
        "colab": {
          "base_uri": "https://localhost:8080/",
          "height": 75
        },
        "outputId": "f1e1f0dd-e0f7-46d8-80fc-284c37a7061f"
      },
      "outputs": [
        {
          "output_type": "execute_result",
          "data": {
            "text/plain": [
              "RandomForestClassifier(n_estimators=10, random_state=42)"
            ],
            "text/html": [
              "<style>#sk-container-id-1 {color: black;background-color: white;}#sk-container-id-1 pre{padding: 0;}#sk-container-id-1 div.sk-toggleable {background-color: white;}#sk-container-id-1 label.sk-toggleable__label {cursor: pointer;display: block;width: 100%;margin-bottom: 0;padding: 0.3em;box-sizing: border-box;text-align: center;}#sk-container-id-1 label.sk-toggleable__label-arrow:before {content: \"▸\";float: left;margin-right: 0.25em;color: #696969;}#sk-container-id-1 label.sk-toggleable__label-arrow:hover:before {color: black;}#sk-container-id-1 div.sk-estimator:hover label.sk-toggleable__label-arrow:before {color: black;}#sk-container-id-1 div.sk-toggleable__content {max-height: 0;max-width: 0;overflow: hidden;text-align: left;background-color: #f0f8ff;}#sk-container-id-1 div.sk-toggleable__content pre {margin: 0.2em;color: black;border-radius: 0.25em;background-color: #f0f8ff;}#sk-container-id-1 input.sk-toggleable__control:checked~div.sk-toggleable__content {max-height: 200px;max-width: 100%;overflow: auto;}#sk-container-id-1 input.sk-toggleable__control:checked~label.sk-toggleable__label-arrow:before {content: \"▾\";}#sk-container-id-1 div.sk-estimator input.sk-toggleable__control:checked~label.sk-toggleable__label {background-color: #d4ebff;}#sk-container-id-1 div.sk-label input.sk-toggleable__control:checked~label.sk-toggleable__label {background-color: #d4ebff;}#sk-container-id-1 input.sk-hidden--visually {border: 0;clip: rect(1px 1px 1px 1px);clip: rect(1px, 1px, 1px, 1px);height: 1px;margin: -1px;overflow: hidden;padding: 0;position: absolute;width: 1px;}#sk-container-id-1 div.sk-estimator {font-family: monospace;background-color: #f0f8ff;border: 1px dotted black;border-radius: 0.25em;box-sizing: border-box;margin-bottom: 0.5em;}#sk-container-id-1 div.sk-estimator:hover {background-color: #d4ebff;}#sk-container-id-1 div.sk-parallel-item::after {content: \"\";width: 100%;border-bottom: 1px solid gray;flex-grow: 1;}#sk-container-id-1 div.sk-label:hover label.sk-toggleable__label {background-color: #d4ebff;}#sk-container-id-1 div.sk-serial::before {content: \"\";position: absolute;border-left: 1px solid gray;box-sizing: border-box;top: 0;bottom: 0;left: 50%;z-index: 0;}#sk-container-id-1 div.sk-serial {display: flex;flex-direction: column;align-items: center;background-color: white;padding-right: 0.2em;padding-left: 0.2em;position: relative;}#sk-container-id-1 div.sk-item {position: relative;z-index: 1;}#sk-container-id-1 div.sk-parallel {display: flex;align-items: stretch;justify-content: center;background-color: white;position: relative;}#sk-container-id-1 div.sk-item::before, #sk-container-id-1 div.sk-parallel-item::before {content: \"\";position: absolute;border-left: 1px solid gray;box-sizing: border-box;top: 0;bottom: 0;left: 50%;z-index: -1;}#sk-container-id-1 div.sk-parallel-item {display: flex;flex-direction: column;z-index: 1;position: relative;background-color: white;}#sk-container-id-1 div.sk-parallel-item:first-child::after {align-self: flex-end;width: 50%;}#sk-container-id-1 div.sk-parallel-item:last-child::after {align-self: flex-start;width: 50%;}#sk-container-id-1 div.sk-parallel-item:only-child::after {width: 0;}#sk-container-id-1 div.sk-dashed-wrapped {border: 1px dashed gray;margin: 0 0.4em 0.5em 0.4em;box-sizing: border-box;padding-bottom: 0.4em;background-color: white;}#sk-container-id-1 div.sk-label label {font-family: monospace;font-weight: bold;display: inline-block;line-height: 1.2em;}#sk-container-id-1 div.sk-label-container {text-align: center;}#sk-container-id-1 div.sk-container {/* jupyter's `normalize.less` sets `[hidden] { display: none; }` but bootstrap.min.css set `[hidden] { display: none !important; }` so we also need the `!important` here to be able to override the default hidden behavior on the sphinx rendered scikit-learn.org. See: https://github.com/scikit-learn/scikit-learn/issues/21755 */display: inline-block !important;position: relative;}#sk-container-id-1 div.sk-text-repr-fallback {display: none;}</style><div id=\"sk-container-id-1\" class=\"sk-top-container\"><div class=\"sk-text-repr-fallback\"><pre>RandomForestClassifier(n_estimators=10, random_state=42)</pre><b>In a Jupyter environment, please rerun this cell to show the HTML representation or trust the notebook. <br />On GitHub, the HTML representation is unable to render, please try loading this page with nbviewer.org.</b></div><div class=\"sk-container\" hidden><div class=\"sk-item\"><div class=\"sk-estimator sk-toggleable\"><input class=\"sk-toggleable__control sk-hidden--visually\" id=\"sk-estimator-id-1\" type=\"checkbox\" checked><label for=\"sk-estimator-id-1\" class=\"sk-toggleable__label sk-toggleable__label-arrow\">RandomForestClassifier</label><div class=\"sk-toggleable__content\"><pre>RandomForestClassifier(n_estimators=10, random_state=42)</pre></div></div></div></div></div>"
            ]
          },
          "metadata": {},
          "execution_count": 37
        }
      ],
      "source": [
        "rf_classifier = RandomForestClassifier(n_estimators=10, random_state=42)\n",
        "rf_classifier.fit(X_train,y_train)"
      ]
    },
    {
      "cell_type": "code",
      "source": [
        "X_test.shape"
      ],
      "metadata": {
        "colab": {
          "base_uri": "https://localhost:8080/"
        },
        "id": "RskmSSz8CUOK",
        "outputId": "1aa05c35-581e-4faf-a827-e9b4c6c9ff5b"
      },
      "execution_count": 38,
      "outputs": [
        {
          "output_type": "execute_result",
          "data": {
            "text/plain": [
              "(254368, 39)"
            ]
          },
          "metadata": {},
          "execution_count": 38
        }
      ]
    },
    {
      "cell_type": "markdown",
      "source": [
        "# Splitting DataFrame into chunks for parallel procession"
      ],
      "metadata": {
        "id": "-v2u6znqdYWL"
      }
    },
    {
      "cell_type": "code",
      "source": [
        "def split_dataframe(df, chunk_size = 10000):\n",
        "    chunks = list()\n",
        "    num_chunks = len(df) // chunk_size + 1\n",
        "    for i in range(num_chunks):\n",
        "        chunks.append(df[i*chunk_size:(i+1)*chunk_size])\n",
        "    return chunks"
      ],
      "metadata": {
        "id": "Y3nZIr7vKC-H"
      },
      "execution_count": 39,
      "outputs": []
    },
    {
      "cell_type": "code",
      "source": [
        "from sklearn.utils import resample"
      ],
      "metadata": {
        "id": "X7jjyaORfVe2"
      },
      "execution_count": 40,
      "outputs": []
    },
    {
      "cell_type": "code",
      "execution_count": 41,
      "metadata": {
        "id": "sltjreOA-iVM"
      },
      "outputs": [],
      "source": [
        "X_test_upsampled = resample(X_test,\n",
        "                                 replace=True,\n",
        "                                 n_samples=1000000)"
      ]
    },
    {
      "cell_type": "code",
      "source": [
        "X_test_upsampled"
      ],
      "metadata": {
        "colab": {
          "base_uri": "https://localhost:8080/",
          "height": 461
        },
        "id": "bFg7T5SL8aDc",
        "outputId": "8d2f4cfc-cc22-47dd-c754-0b302703ec3a"
      },
      "execution_count": 42,
      "outputs": [
        {
          "output_type": "execute_result",
          "data": {
            "text/plain": [
              "        month_encode  hour_encode  location_description_encode  \\\n",
              "606501      0.071670     0.056379                     0.170584   \n",
              "356928      0.064726     0.105409                     0.241426   \n",
              "437080      0.084259     0.070365                     0.241426   \n",
              "723569      0.100181     0.100181                     0.089014   \n",
              "396295      0.077978     0.088032                     0.021274   \n",
              "...              ...          ...                          ...   \n",
              "411         0.074212     0.061134                     0.170584   \n",
              "775562      0.079037     0.058270                     0.099909   \n",
              "830704      0.079037     0.058270                     0.033211   \n",
              "987765      0.082581     0.072252                     0.097541   \n",
              "176113      0.084259     0.072252                     0.006830   \n",
              "\n",
              "        district_encode  ward_encode  primary_type_ARSON  \\\n",
              "606501         0.100245     0.016095                   0   \n",
              "356928         0.040236     0.020381                   0   \n",
              "437080         0.100245     0.033249                   0   \n",
              "723569         0.063915     0.026347                   0   \n",
              "396295         0.038413     0.009483                   0   \n",
              "...                 ...          ...                 ...   \n",
              "411            0.037085     0.032540                   0   \n",
              "775562         0.100245     0.020381                   0   \n",
              "830704         0.100245     0.032540                   0   \n",
              "987765         0.100245     0.033249                   0   \n",
              "176113         0.038413     0.015160                   0   \n",
              "\n",
              "        primary_type_ASSAULT  primary_type_BATTERY  primary_type_BURGLARY  \\\n",
              "606501                     0                     0                      0   \n",
              "356928                     0                     0                      0   \n",
              "437080                     0                     0                      0   \n",
              "723569                     0                     0                      0   \n",
              "396295                     0                     0                      0   \n",
              "...                      ...                   ...                    ...   \n",
              "411                        0                     0                      0   \n",
              "775562                     1                     0                      0   \n",
              "830704                     0                     0                      0   \n",
              "987765                     0                     0                      0   \n",
              "176113                     0                     0                      0   \n",
              "\n",
              "        primary_type_CRIM SEXUAL ASSAULT  ...  \\\n",
              "606501                                 0  ...   \n",
              "356928                                 0  ...   \n",
              "437080                                 0  ...   \n",
              "723569                                 0  ...   \n",
              "396295                                 0  ...   \n",
              "...                                  ...  ...   \n",
              "411                                    0  ...   \n",
              "775562                                 0  ...   \n",
              "830704                                 0  ...   \n",
              "987765                                 0  ...   \n",
              "176113                                 0  ...   \n",
              "\n",
              "        primary_type_PUBLIC PEACE VIOLATION  primary_type_RITUALISM  \\\n",
              "606501                                    0                       0   \n",
              "356928                                    0                       0   \n",
              "437080                                    0                       0   \n",
              "723569                                    0                       0   \n",
              "396295                                    0                       0   \n",
              "...                                     ...                     ...   \n",
              "411                                       0                       0   \n",
              "775562                                    0                       0   \n",
              "830704                                    0                       0   \n",
              "987765                                    0                       0   \n",
              "176113                                    0                       0   \n",
              "\n",
              "        primary_type_ROBBERY  primary_type_SEX OFFENSE  primary_type_STALKING  \\\n",
              "606501                     0                         0                      0   \n",
              "356928                     0                         0                      0   \n",
              "437080                     0                         0                      0   \n",
              "723569                     0                         0                      0   \n",
              "396295                     0                         0                      0   \n",
              "...                      ...                       ...                    ...   \n",
              "411                        0                         0                      0   \n",
              "775562                     0                         0                      0   \n",
              "830704                     0                         0                      0   \n",
              "987765                     0                         0                      0   \n",
              "176113                     0                         0                      0   \n",
              "\n",
              "        primary_type_THEFT  primary_type_WEAPONS VIOLATION  \\\n",
              "606501                   0                               0   \n",
              "356928                   0                               0   \n",
              "437080                   0                               0   \n",
              "723569                   0                               0   \n",
              "396295                   1                               0   \n",
              "...                    ...                             ...   \n",
              "411                      0                               0   \n",
              "775562                   0                               0   \n",
              "830704                   1                               0   \n",
              "987765                   0                               0   \n",
              "176113                   0                               0   \n",
              "\n",
              "        domestic_map_missing  domestic_map_no  domestic_map_yes  \n",
              "606501                     0                1                 0  \n",
              "356928                     0                1                 0  \n",
              "437080                     0                1                 0  \n",
              "723569                     0                0                 1  \n",
              "396295                     0                1                 0  \n",
              "...                      ...              ...               ...  \n",
              "411                        0                1                 0  \n",
              "775562                     1                0                 0  \n",
              "830704                     0                1                 0  \n",
              "987765                     0                1                 0  \n",
              "176113                     0                1                 0  \n",
              "\n",
              "[1000000 rows x 39 columns]"
            ],
            "text/html": [
              "\n",
              "  <div id=\"df-45764eab-25b5-4b34-9fda-1f8cd9739fe0\" class=\"colab-df-container\">\n",
              "    <div>\n",
              "<style scoped>\n",
              "    .dataframe tbody tr th:only-of-type {\n",
              "        vertical-align: middle;\n",
              "    }\n",
              "\n",
              "    .dataframe tbody tr th {\n",
              "        vertical-align: top;\n",
              "    }\n",
              "\n",
              "    .dataframe thead th {\n",
              "        text-align: right;\n",
              "    }\n",
              "</style>\n",
              "<table border=\"1\" class=\"dataframe\">\n",
              "  <thead>\n",
              "    <tr style=\"text-align: right;\">\n",
              "      <th></th>\n",
              "      <th>month_encode</th>\n",
              "      <th>hour_encode</th>\n",
              "      <th>location_description_encode</th>\n",
              "      <th>district_encode</th>\n",
              "      <th>ward_encode</th>\n",
              "      <th>primary_type_ARSON</th>\n",
              "      <th>primary_type_ASSAULT</th>\n",
              "      <th>primary_type_BATTERY</th>\n",
              "      <th>primary_type_BURGLARY</th>\n",
              "      <th>primary_type_CRIM SEXUAL ASSAULT</th>\n",
              "      <th>...</th>\n",
              "      <th>primary_type_PUBLIC PEACE VIOLATION</th>\n",
              "      <th>primary_type_RITUALISM</th>\n",
              "      <th>primary_type_ROBBERY</th>\n",
              "      <th>primary_type_SEX OFFENSE</th>\n",
              "      <th>primary_type_STALKING</th>\n",
              "      <th>primary_type_THEFT</th>\n",
              "      <th>primary_type_WEAPONS VIOLATION</th>\n",
              "      <th>domestic_map_missing</th>\n",
              "      <th>domestic_map_no</th>\n",
              "      <th>domestic_map_yes</th>\n",
              "    </tr>\n",
              "  </thead>\n",
              "  <tbody>\n",
              "    <tr>\n",
              "      <th>606501</th>\n",
              "      <td>0.071670</td>\n",
              "      <td>0.056379</td>\n",
              "      <td>0.170584</td>\n",
              "      <td>0.100245</td>\n",
              "      <td>0.016095</td>\n",
              "      <td>0</td>\n",
              "      <td>0</td>\n",
              "      <td>0</td>\n",
              "      <td>0</td>\n",
              "      <td>0</td>\n",
              "      <td>...</td>\n",
              "      <td>0</td>\n",
              "      <td>0</td>\n",
              "      <td>0</td>\n",
              "      <td>0</td>\n",
              "      <td>0</td>\n",
              "      <td>0</td>\n",
              "      <td>0</td>\n",
              "      <td>0</td>\n",
              "      <td>1</td>\n",
              "      <td>0</td>\n",
              "    </tr>\n",
              "    <tr>\n",
              "      <th>356928</th>\n",
              "      <td>0.064726</td>\n",
              "      <td>0.105409</td>\n",
              "      <td>0.241426</td>\n",
              "      <td>0.040236</td>\n",
              "      <td>0.020381</td>\n",
              "      <td>0</td>\n",
              "      <td>0</td>\n",
              "      <td>0</td>\n",
              "      <td>0</td>\n",
              "      <td>0</td>\n",
              "      <td>...</td>\n",
              "      <td>0</td>\n",
              "      <td>0</td>\n",
              "      <td>0</td>\n",
              "      <td>0</td>\n",
              "      <td>0</td>\n",
              "      <td>0</td>\n",
              "      <td>0</td>\n",
              "      <td>0</td>\n",
              "      <td>1</td>\n",
              "      <td>0</td>\n",
              "    </tr>\n",
              "    <tr>\n",
              "      <th>437080</th>\n",
              "      <td>0.084259</td>\n",
              "      <td>0.070365</td>\n",
              "      <td>0.241426</td>\n",
              "      <td>0.100245</td>\n",
              "      <td>0.033249</td>\n",
              "      <td>0</td>\n",
              "      <td>0</td>\n",
              "      <td>0</td>\n",
              "      <td>0</td>\n",
              "      <td>0</td>\n",
              "      <td>...</td>\n",
              "      <td>0</td>\n",
              "      <td>0</td>\n",
              "      <td>0</td>\n",
              "      <td>0</td>\n",
              "      <td>0</td>\n",
              "      <td>0</td>\n",
              "      <td>0</td>\n",
              "      <td>0</td>\n",
              "      <td>1</td>\n",
              "      <td>0</td>\n",
              "    </tr>\n",
              "    <tr>\n",
              "      <th>723569</th>\n",
              "      <td>0.100181</td>\n",
              "      <td>0.100181</td>\n",
              "      <td>0.089014</td>\n",
              "      <td>0.063915</td>\n",
              "      <td>0.026347</td>\n",
              "      <td>0</td>\n",
              "      <td>0</td>\n",
              "      <td>0</td>\n",
              "      <td>0</td>\n",
              "      <td>0</td>\n",
              "      <td>...</td>\n",
              "      <td>0</td>\n",
              "      <td>0</td>\n",
              "      <td>0</td>\n",
              "      <td>0</td>\n",
              "      <td>0</td>\n",
              "      <td>0</td>\n",
              "      <td>0</td>\n",
              "      <td>0</td>\n",
              "      <td>0</td>\n",
              "      <td>1</td>\n",
              "    </tr>\n",
              "    <tr>\n",
              "      <th>396295</th>\n",
              "      <td>0.077978</td>\n",
              "      <td>0.088032</td>\n",
              "      <td>0.021274</td>\n",
              "      <td>0.038413</td>\n",
              "      <td>0.009483</td>\n",
              "      <td>0</td>\n",
              "      <td>0</td>\n",
              "      <td>0</td>\n",
              "      <td>0</td>\n",
              "      <td>0</td>\n",
              "      <td>...</td>\n",
              "      <td>0</td>\n",
              "      <td>0</td>\n",
              "      <td>0</td>\n",
              "      <td>0</td>\n",
              "      <td>0</td>\n",
              "      <td>1</td>\n",
              "      <td>0</td>\n",
              "      <td>0</td>\n",
              "      <td>1</td>\n",
              "      <td>0</td>\n",
              "    </tr>\n",
              "    <tr>\n",
              "      <th>...</th>\n",
              "      <td>...</td>\n",
              "      <td>...</td>\n",
              "      <td>...</td>\n",
              "      <td>...</td>\n",
              "      <td>...</td>\n",
              "      <td>...</td>\n",
              "      <td>...</td>\n",
              "      <td>...</td>\n",
              "      <td>...</td>\n",
              "      <td>...</td>\n",
              "      <td>...</td>\n",
              "      <td>...</td>\n",
              "      <td>...</td>\n",
              "      <td>...</td>\n",
              "      <td>...</td>\n",
              "      <td>...</td>\n",
              "      <td>...</td>\n",
              "      <td>...</td>\n",
              "      <td>...</td>\n",
              "      <td>...</td>\n",
              "      <td>...</td>\n",
              "    </tr>\n",
              "    <tr>\n",
              "      <th>411</th>\n",
              "      <td>0.074212</td>\n",
              "      <td>0.061134</td>\n",
              "      <td>0.170584</td>\n",
              "      <td>0.037085</td>\n",
              "      <td>0.032540</td>\n",
              "      <td>0</td>\n",
              "      <td>0</td>\n",
              "      <td>0</td>\n",
              "      <td>0</td>\n",
              "      <td>0</td>\n",
              "      <td>...</td>\n",
              "      <td>0</td>\n",
              "      <td>0</td>\n",
              "      <td>0</td>\n",
              "      <td>0</td>\n",
              "      <td>0</td>\n",
              "      <td>0</td>\n",
              "      <td>0</td>\n",
              "      <td>0</td>\n",
              "      <td>1</td>\n",
              "      <td>0</td>\n",
              "    </tr>\n",
              "    <tr>\n",
              "      <th>775562</th>\n",
              "      <td>0.079037</td>\n",
              "      <td>0.058270</td>\n",
              "      <td>0.099909</td>\n",
              "      <td>0.100245</td>\n",
              "      <td>0.020381</td>\n",
              "      <td>0</td>\n",
              "      <td>1</td>\n",
              "      <td>0</td>\n",
              "      <td>0</td>\n",
              "      <td>0</td>\n",
              "      <td>...</td>\n",
              "      <td>0</td>\n",
              "      <td>0</td>\n",
              "      <td>0</td>\n",
              "      <td>0</td>\n",
              "      <td>0</td>\n",
              "      <td>0</td>\n",
              "      <td>0</td>\n",
              "      <td>1</td>\n",
              "      <td>0</td>\n",
              "      <td>0</td>\n",
              "    </tr>\n",
              "    <tr>\n",
              "      <th>830704</th>\n",
              "      <td>0.079037</td>\n",
              "      <td>0.058270</td>\n",
              "      <td>0.033211</td>\n",
              "      <td>0.100245</td>\n",
              "      <td>0.032540</td>\n",
              "      <td>0</td>\n",
              "      <td>0</td>\n",
              "      <td>0</td>\n",
              "      <td>0</td>\n",
              "      <td>0</td>\n",
              "      <td>...</td>\n",
              "      <td>0</td>\n",
              "      <td>0</td>\n",
              "      <td>0</td>\n",
              "      <td>0</td>\n",
              "      <td>0</td>\n",
              "      <td>1</td>\n",
              "      <td>0</td>\n",
              "      <td>0</td>\n",
              "      <td>1</td>\n",
              "      <td>0</td>\n",
              "    </tr>\n",
              "    <tr>\n",
              "      <th>987765</th>\n",
              "      <td>0.082581</td>\n",
              "      <td>0.072252</td>\n",
              "      <td>0.097541</td>\n",
              "      <td>0.100245</td>\n",
              "      <td>0.033249</td>\n",
              "      <td>0</td>\n",
              "      <td>0</td>\n",
              "      <td>0</td>\n",
              "      <td>0</td>\n",
              "      <td>0</td>\n",
              "      <td>...</td>\n",
              "      <td>0</td>\n",
              "      <td>0</td>\n",
              "      <td>0</td>\n",
              "      <td>0</td>\n",
              "      <td>0</td>\n",
              "      <td>0</td>\n",
              "      <td>0</td>\n",
              "      <td>0</td>\n",
              "      <td>1</td>\n",
              "      <td>0</td>\n",
              "    </tr>\n",
              "    <tr>\n",
              "      <th>176113</th>\n",
              "      <td>0.084259</td>\n",
              "      <td>0.072252</td>\n",
              "      <td>0.006830</td>\n",
              "      <td>0.038413</td>\n",
              "      <td>0.015160</td>\n",
              "      <td>0</td>\n",
              "      <td>0</td>\n",
              "      <td>0</td>\n",
              "      <td>0</td>\n",
              "      <td>0</td>\n",
              "      <td>...</td>\n",
              "      <td>0</td>\n",
              "      <td>0</td>\n",
              "      <td>0</td>\n",
              "      <td>0</td>\n",
              "      <td>0</td>\n",
              "      <td>0</td>\n",
              "      <td>0</td>\n",
              "      <td>0</td>\n",
              "      <td>1</td>\n",
              "      <td>0</td>\n",
              "    </tr>\n",
              "  </tbody>\n",
              "</table>\n",
              "<p>1000000 rows × 39 columns</p>\n",
              "</div>\n",
              "    <div class=\"colab-df-buttons\">\n",
              "\n",
              "  <div class=\"colab-df-container\">\n",
              "    <button class=\"colab-df-convert\" onclick=\"convertToInteractive('df-45764eab-25b5-4b34-9fda-1f8cd9739fe0')\"\n",
              "            title=\"Convert this dataframe to an interactive table.\"\n",
              "            style=\"display:none;\">\n",
              "\n",
              "  <svg xmlns=\"http://www.w3.org/2000/svg\" height=\"24px\" viewBox=\"0 -960 960 960\">\n",
              "    <path d=\"M120-120v-720h720v720H120Zm60-500h600v-160H180v160Zm220 220h160v-160H400v160Zm0 220h160v-160H400v160ZM180-400h160v-160H180v160Zm440 0h160v-160H620v160ZM180-180h160v-160H180v160Zm440 0h160v-160H620v160Z\"/>\n",
              "  </svg>\n",
              "    </button>\n",
              "\n",
              "  <style>\n",
              "    .colab-df-container {\n",
              "      display:flex;\n",
              "      gap: 12px;\n",
              "    }\n",
              "\n",
              "    .colab-df-convert {\n",
              "      background-color: #E8F0FE;\n",
              "      border: none;\n",
              "      border-radius: 50%;\n",
              "      cursor: pointer;\n",
              "      display: none;\n",
              "      fill: #1967D2;\n",
              "      height: 32px;\n",
              "      padding: 0 0 0 0;\n",
              "      width: 32px;\n",
              "    }\n",
              "\n",
              "    .colab-df-convert:hover {\n",
              "      background-color: #E2EBFA;\n",
              "      box-shadow: 0px 1px 2px rgba(60, 64, 67, 0.3), 0px 1px 3px 1px rgba(60, 64, 67, 0.15);\n",
              "      fill: #174EA6;\n",
              "    }\n",
              "\n",
              "    .colab-df-buttons div {\n",
              "      margin-bottom: 4px;\n",
              "    }\n",
              "\n",
              "    [theme=dark] .colab-df-convert {\n",
              "      background-color: #3B4455;\n",
              "      fill: #D2E3FC;\n",
              "    }\n",
              "\n",
              "    [theme=dark] .colab-df-convert:hover {\n",
              "      background-color: #434B5C;\n",
              "      box-shadow: 0px 1px 3px 1px rgba(0, 0, 0, 0.15);\n",
              "      filter: drop-shadow(0px 1px 2px rgba(0, 0, 0, 0.3));\n",
              "      fill: #FFFFFF;\n",
              "    }\n",
              "  </style>\n",
              "\n",
              "    <script>\n",
              "      const buttonEl =\n",
              "        document.querySelector('#df-45764eab-25b5-4b34-9fda-1f8cd9739fe0 button.colab-df-convert');\n",
              "      buttonEl.style.display =\n",
              "        google.colab.kernel.accessAllowed ? 'block' : 'none';\n",
              "\n",
              "      async function convertToInteractive(key) {\n",
              "        const element = document.querySelector('#df-45764eab-25b5-4b34-9fda-1f8cd9739fe0');\n",
              "        const dataTable =\n",
              "          await google.colab.kernel.invokeFunction('convertToInteractive',\n",
              "                                                    [key], {});\n",
              "        if (!dataTable) return;\n",
              "\n",
              "        const docLinkHtml = 'Like what you see? Visit the ' +\n",
              "          '<a target=\"_blank\" href=https://colab.research.google.com/notebooks/data_table.ipynb>data table notebook</a>'\n",
              "          + ' to learn more about interactive tables.';\n",
              "        element.innerHTML = '';\n",
              "        dataTable['output_type'] = 'display_data';\n",
              "        await google.colab.output.renderOutput(dataTable, element);\n",
              "        const docLink = document.createElement('div');\n",
              "        docLink.innerHTML = docLinkHtml;\n",
              "        element.appendChild(docLink);\n",
              "      }\n",
              "    </script>\n",
              "  </div>\n",
              "\n",
              "\n",
              "<div id=\"df-e5bc139a-21f2-425a-b1a0-f20d513f3b3f\">\n",
              "  <button class=\"colab-df-quickchart\" onclick=\"quickchart('df-e5bc139a-21f2-425a-b1a0-f20d513f3b3f')\"\n",
              "            title=\"Suggest charts\"\n",
              "            style=\"display:none;\">\n",
              "\n",
              "<svg xmlns=\"http://www.w3.org/2000/svg\" height=\"24px\"viewBox=\"0 0 24 24\"\n",
              "     width=\"24px\">\n",
              "    <g>\n",
              "        <path d=\"M19 3H5c-1.1 0-2 .9-2 2v14c0 1.1.9 2 2 2h14c1.1 0 2-.9 2-2V5c0-1.1-.9-2-2-2zM9 17H7v-7h2v7zm4 0h-2V7h2v10zm4 0h-2v-4h2v4z\"/>\n",
              "    </g>\n",
              "</svg>\n",
              "  </button>\n",
              "\n",
              "<style>\n",
              "  .colab-df-quickchart {\n",
              "      --bg-color: #E8F0FE;\n",
              "      --fill-color: #1967D2;\n",
              "      --hover-bg-color: #E2EBFA;\n",
              "      --hover-fill-color: #174EA6;\n",
              "      --disabled-fill-color: #AAA;\n",
              "      --disabled-bg-color: #DDD;\n",
              "  }\n",
              "\n",
              "  [theme=dark] .colab-df-quickchart {\n",
              "      --bg-color: #3B4455;\n",
              "      --fill-color: #D2E3FC;\n",
              "      --hover-bg-color: #434B5C;\n",
              "      --hover-fill-color: #FFFFFF;\n",
              "      --disabled-bg-color: #3B4455;\n",
              "      --disabled-fill-color: #666;\n",
              "  }\n",
              "\n",
              "  .colab-df-quickchart {\n",
              "    background-color: var(--bg-color);\n",
              "    border: none;\n",
              "    border-radius: 50%;\n",
              "    cursor: pointer;\n",
              "    display: none;\n",
              "    fill: var(--fill-color);\n",
              "    height: 32px;\n",
              "    padding: 0;\n",
              "    width: 32px;\n",
              "  }\n",
              "\n",
              "  .colab-df-quickchart:hover {\n",
              "    background-color: var(--hover-bg-color);\n",
              "    box-shadow: 0 1px 2px rgba(60, 64, 67, 0.3), 0 1px 3px 1px rgba(60, 64, 67, 0.15);\n",
              "    fill: var(--button-hover-fill-color);\n",
              "  }\n",
              "\n",
              "  .colab-df-quickchart-complete:disabled,\n",
              "  .colab-df-quickchart-complete:disabled:hover {\n",
              "    background-color: var(--disabled-bg-color);\n",
              "    fill: var(--disabled-fill-color);\n",
              "    box-shadow: none;\n",
              "  }\n",
              "\n",
              "  .colab-df-spinner {\n",
              "    border: 2px solid var(--fill-color);\n",
              "    border-color: transparent;\n",
              "    border-bottom-color: var(--fill-color);\n",
              "    animation:\n",
              "      spin 1s steps(1) infinite;\n",
              "  }\n",
              "\n",
              "  @keyframes spin {\n",
              "    0% {\n",
              "      border-color: transparent;\n",
              "      border-bottom-color: var(--fill-color);\n",
              "      border-left-color: var(--fill-color);\n",
              "    }\n",
              "    20% {\n",
              "      border-color: transparent;\n",
              "      border-left-color: var(--fill-color);\n",
              "      border-top-color: var(--fill-color);\n",
              "    }\n",
              "    30% {\n",
              "      border-color: transparent;\n",
              "      border-left-color: var(--fill-color);\n",
              "      border-top-color: var(--fill-color);\n",
              "      border-right-color: var(--fill-color);\n",
              "    }\n",
              "    40% {\n",
              "      border-color: transparent;\n",
              "      border-right-color: var(--fill-color);\n",
              "      border-top-color: var(--fill-color);\n",
              "    }\n",
              "    60% {\n",
              "      border-color: transparent;\n",
              "      border-right-color: var(--fill-color);\n",
              "    }\n",
              "    80% {\n",
              "      border-color: transparent;\n",
              "      border-right-color: var(--fill-color);\n",
              "      border-bottom-color: var(--fill-color);\n",
              "    }\n",
              "    90% {\n",
              "      border-color: transparent;\n",
              "      border-bottom-color: var(--fill-color);\n",
              "    }\n",
              "  }\n",
              "</style>\n",
              "\n",
              "  <script>\n",
              "    async function quickchart(key) {\n",
              "      const quickchartButtonEl =\n",
              "        document.querySelector('#' + key + ' button');\n",
              "      quickchartButtonEl.disabled = true;  // To prevent multiple clicks.\n",
              "      quickchartButtonEl.classList.add('colab-df-spinner');\n",
              "      try {\n",
              "        const charts = await google.colab.kernel.invokeFunction(\n",
              "            'suggestCharts', [key], {});\n",
              "      } catch (error) {\n",
              "        console.error('Error during call to suggestCharts:', error);\n",
              "      }\n",
              "      quickchartButtonEl.classList.remove('colab-df-spinner');\n",
              "      quickchartButtonEl.classList.add('colab-df-quickchart-complete');\n",
              "    }\n",
              "    (() => {\n",
              "      let quickchartButtonEl =\n",
              "        document.querySelector('#df-e5bc139a-21f2-425a-b1a0-f20d513f3b3f button');\n",
              "      quickchartButtonEl.style.display =\n",
              "        google.colab.kernel.accessAllowed ? 'block' : 'none';\n",
              "    })();\n",
              "  </script>\n",
              "</div>\n",
              "\n",
              "  <div id=\"id_3e43d33e-23e3-46b1-8140-5eda87848d81\">\n",
              "    <style>\n",
              "      .colab-df-generate {\n",
              "        background-color: #E8F0FE;\n",
              "        border: none;\n",
              "        border-radius: 50%;\n",
              "        cursor: pointer;\n",
              "        display: none;\n",
              "        fill: #1967D2;\n",
              "        height: 32px;\n",
              "        padding: 0 0 0 0;\n",
              "        width: 32px;\n",
              "      }\n",
              "\n",
              "      .colab-df-generate:hover {\n",
              "        background-color: #E2EBFA;\n",
              "        box-shadow: 0px 1px 2px rgba(60, 64, 67, 0.3), 0px 1px 3px 1px rgba(60, 64, 67, 0.15);\n",
              "        fill: #174EA6;\n",
              "      }\n",
              "\n",
              "      [theme=dark] .colab-df-generate {\n",
              "        background-color: #3B4455;\n",
              "        fill: #D2E3FC;\n",
              "      }\n",
              "\n",
              "      [theme=dark] .colab-df-generate:hover {\n",
              "        background-color: #434B5C;\n",
              "        box-shadow: 0px 1px 3px 1px rgba(0, 0, 0, 0.15);\n",
              "        filter: drop-shadow(0px 1px 2px rgba(0, 0, 0, 0.3));\n",
              "        fill: #FFFFFF;\n",
              "      }\n",
              "    </style>\n",
              "    <button class=\"colab-df-generate\" onclick=\"generateWithVariable('X_test_upsampled')\"\n",
              "            title=\"Generate code using this dataframe.\"\n",
              "            style=\"display:none;\">\n",
              "\n",
              "  <svg xmlns=\"http://www.w3.org/2000/svg\" height=\"24px\"viewBox=\"0 0 24 24\"\n",
              "       width=\"24px\">\n",
              "    <path d=\"M7,19H8.4L18.45,9,17,7.55,7,17.6ZM5,21V16.75L18.45,3.32a2,2,0,0,1,2.83,0l1.4,1.43a1.91,1.91,0,0,1,.58,1.4,1.91,1.91,0,0,1-.58,1.4L9.25,21ZM18.45,9,17,7.55Zm-12,3A5.31,5.31,0,0,0,4.9,8.1,5.31,5.31,0,0,0,1,6.5,5.31,5.31,0,0,0,4.9,4.9,5.31,5.31,0,0,0,6.5,1,5.31,5.31,0,0,0,8.1,4.9,5.31,5.31,0,0,0,12,6.5,5.46,5.46,0,0,0,6.5,12Z\"/>\n",
              "  </svg>\n",
              "    </button>\n",
              "    <script>\n",
              "      (() => {\n",
              "      const buttonEl =\n",
              "        document.querySelector('#id_3e43d33e-23e3-46b1-8140-5eda87848d81 button.colab-df-generate');\n",
              "      buttonEl.style.display =\n",
              "        google.colab.kernel.accessAllowed ? 'block' : 'none';\n",
              "\n",
              "      buttonEl.onclick = () => {\n",
              "        google.colab.notebook.generateWithVariable('X_test_upsampled');\n",
              "      }\n",
              "      })();\n",
              "    </script>\n",
              "  </div>\n",
              "\n",
              "    </div>\n",
              "  </div>\n"
            ],
            "application/vnd.google.colaboratory.intrinsic+json": {
              "type": "dataframe",
              "variable_name": "X_test_upsampled"
            }
          },
          "metadata": {},
          "execution_count": 42
        }
      ]
    },
    {
      "cell_type": "markdown",
      "source": [],
      "metadata": {
        "id": "FGmCxO2l8Yyp"
      }
    },
    {
      "cell_type": "code",
      "source": [
        "len(X_test_upsampled)"
      ],
      "metadata": {
        "colab": {
          "base_uri": "https://localhost:8080/"
        },
        "id": "sfx3B5gZcDp_",
        "outputId": "8ccb2267-4e16-4ee5-ff90-1e7660c66d1d"
      },
      "execution_count": 43,
      "outputs": [
        {
          "output_type": "execute_result",
          "data": {
            "text/plain": [
              "1000000"
            ]
          },
          "metadata": {},
          "execution_count": 43
        }
      ]
    },
    {
      "cell_type": "code",
      "execution_count": 44,
      "metadata": {
        "id": "4u-gOEPG-uFw"
      },
      "outputs": [],
      "source": [
        "chunks = split_dataframe(X_test_upsampled)"
      ]
    },
    {
      "cell_type": "code",
      "source": [
        "chunks=chunks[0:100]"
      ],
      "metadata": {
        "id": "9Znyn33DCubl"
      },
      "execution_count": 50,
      "outputs": []
    },
    {
      "cell_type": "code",
      "execution_count": 45,
      "metadata": {
        "id": "h0uh1koo_Gue",
        "colab": {
          "base_uri": "https://localhost:8080/"
        },
        "outputId": "93f9e9d0-b299-4b15-b163-0ae58588509d"
      },
      "outputs": [
        {
          "output_type": "stream",
          "name": "stdout",
          "text": [
            "Requirement already satisfied: ray in /usr/local/lib/python3.10/dist-packages (2.22.0)\n",
            "Requirement already satisfied: click>=7.0 in /usr/local/lib/python3.10/dist-packages (from ray) (8.1.7)\n",
            "Requirement already satisfied: filelock in /usr/local/lib/python3.10/dist-packages (from ray) (3.14.0)\n",
            "Requirement already satisfied: jsonschema in /usr/local/lib/python3.10/dist-packages (from ray) (4.19.2)\n",
            "Requirement already satisfied: msgpack<2.0.0,>=1.0.0 in /usr/local/lib/python3.10/dist-packages (from ray) (1.0.8)\n",
            "Requirement already satisfied: packaging in /usr/local/lib/python3.10/dist-packages (from ray) (24.0)\n",
            "Requirement already satisfied: protobuf!=3.19.5,>=3.15.3 in /usr/local/lib/python3.10/dist-packages (from ray) (3.20.3)\n",
            "Requirement already satisfied: pyyaml in /usr/local/lib/python3.10/dist-packages (from ray) (6.0.1)\n",
            "Requirement already satisfied: aiosignal in /usr/local/lib/python3.10/dist-packages (from ray) (1.3.1)\n",
            "Requirement already satisfied: frozenlist in /usr/local/lib/python3.10/dist-packages (from ray) (1.4.1)\n",
            "Requirement already satisfied: requests in /usr/local/lib/python3.10/dist-packages (from ray) (2.31.0)\n",
            "Requirement already satisfied: attrs>=22.2.0 in /usr/local/lib/python3.10/dist-packages (from jsonschema->ray) (23.2.0)\n",
            "Requirement already satisfied: jsonschema-specifications>=2023.03.6 in /usr/local/lib/python3.10/dist-packages (from jsonschema->ray) (2023.12.1)\n",
            "Requirement already satisfied: referencing>=0.28.4 in /usr/local/lib/python3.10/dist-packages (from jsonschema->ray) (0.35.1)\n",
            "Requirement already satisfied: rpds-py>=0.7.1 in /usr/local/lib/python3.10/dist-packages (from jsonschema->ray) (0.18.1)\n",
            "Requirement already satisfied: charset-normalizer<4,>=2 in /usr/local/lib/python3.10/dist-packages (from requests->ray) (3.3.2)\n",
            "Requirement already satisfied: idna<4,>=2.5 in /usr/local/lib/python3.10/dist-packages (from requests->ray) (3.7)\n",
            "Requirement already satisfied: urllib3<3,>=1.21.1 in /usr/local/lib/python3.10/dist-packages (from requests->ray) (2.0.7)\n",
            "Requirement already satisfied: certifi>=2017.4.17 in /usr/local/lib/python3.10/dist-packages (from requests->ray) (2024.2.2)\n"
          ]
        }
      ],
      "source": [
        "!pip install ray\n"
      ]
    },
    {
      "cell_type": "code",
      "execution_count": 46,
      "metadata": {
        "id": "BaihkpFC__6R"
      },
      "outputs": [],
      "source": [
        "import ray"
      ]
    },
    {
      "cell_type": "code",
      "execution_count": 51,
      "metadata": {
        "id": "bqaJdG1PmhHt"
      },
      "outputs": [],
      "source": [
        "@ray.remote\n",
        "\n",
        "def make_predictions(model,batch):\n",
        "\n",
        "  predictions = model.predict(batch)\n",
        "  return predictions\n",
        "\n",
        "model_ref = ray.put(rf_classifier)\n",
        "\n",
        "results_ref = []\n",
        "\n",
        "for chunk in chunks:\n",
        "\n",
        "  results_ref.append(make_predictions.remote(model_ref, chunk))\n",
        "\n",
        "\n",
        "results = ray.get(results_ref)\n"
      ]
    },
    {
      "cell_type": "code",
      "execution_count": 52,
      "metadata": {
        "id": "kpNLxUAeAX5e",
        "colab": {
          "base_uri": "https://localhost:8080/"
        },
        "outputId": "69a75dd6-9069-4a89-b0fc-8880fce15312"
      },
      "outputs": [
        {
          "output_type": "execute_result",
          "data": {
            "text/plain": [
              "10000"
            ]
          },
          "metadata": {},
          "execution_count": 52
        }
      ],
      "source": [
        "len(results[0])"
      ]
    },
    {
      "cell_type": "code",
      "execution_count": 53,
      "metadata": {
        "id": "r3Uc9rpN-4Gp",
        "colab": {
          "base_uri": "https://localhost:8080/"
        },
        "outputId": "185a52cf-971a-4092-cf4f-dee44a637810"
      },
      "outputs": [
        {
          "output_type": "execute_result",
          "data": {
            "text/plain": [
              "100"
            ]
          },
          "metadata": {},
          "execution_count": 53
        }
      ],
      "source": [
        "len(results)"
      ]
    },
    {
      "cell_type": "code",
      "execution_count": 54,
      "metadata": {
        "id": "1SnbsmRWre6x"
      },
      "outputs": [],
      "source": [
        "from sklearn.metrics import roc_auc_score"
      ]
    },
    {
      "cell_type": "markdown",
      "source": [
        "# Overall Random Forest Gives Impressive Results\n",
        "# Accracy : 89\n",
        "# Recall : 0.89\n",
        "# Precision : 0.88\n",
        "# F1 : 0.88"
      ],
      "metadata": {
        "id": "CyCA9EQnDTS-"
      }
    },
    {
      "cell_type": "code",
      "execution_count": null,
      "metadata": {
        "id": "7b11bfTLrSjY"
      },
      "outputs": [],
      "source": [
        "#roc_auc_score(y_test, clf.predict_proba(X_test)[:, 1])"
      ]
    },
    {
      "cell_type": "code",
      "execution_count": null,
      "metadata": {
        "id": "0YH-thbFrnbx"
      },
      "outputs": [],
      "source": [
        "#roc_auc_score(y_test, rf_classifier.predict_proba(X_test)[:, 1])"
      ]
    }
  ],
  "metadata": {
    "colab": {
      "provenance": []
    },
    "kernelspec": {
      "display_name": "Python 3",
      "name": "python3"
    },
    "language_info": {
      "name": "python"
    }
  },
  "nbformat": 4,
  "nbformat_minor": 0
}